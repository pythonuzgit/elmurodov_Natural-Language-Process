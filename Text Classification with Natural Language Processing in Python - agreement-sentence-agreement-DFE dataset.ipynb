{
 "cells": [
  {
   "cell_type": "markdown",
   "metadata": {},
   "source": [
    "Text Classification with Scikit-Learn"
   ]
  },
  {
   "cell_type": "markdown",
   "metadata": {},
   "source": [
    "Import Libraries"
   ]
  },
  {
   "cell_type": "code",
   "execution_count": 1,
   "metadata": {},
   "outputs": [],
   "source": [
    "import numpy as np\n",
    "import seaborn as sns\n",
    "import matplotlib.pyplot as plt\n",
    "#% matplotlib inline"
   ]
  },
  {
   "cell_type": "code",
   "execution_count": 2,
   "metadata": {},
   "outputs": [],
   "source": [
    "import pandas as pd\n",
    "import nltk\n",
    "from bs4 import BeautifulSoup\n",
    "import string\n",
    "from nltk.corpus import stopwords\n",
    "from nltk.stem import WordNetLemmatizer\n",
    "from nltk.tokenize import RegexpTokenizer\n",
    "from nltk.stem.porter import PorterStemmer\n",
    "\n",
    "from sklearn.metrics import f1_score, confusion_matrix\n",
    "from sklearn.metrics import classification_report\n",
    "\n",
    "import warnings\n",
    "warnings.filterwarnings(\"ignore\")"
   ]
  },
  {
   "cell_type": "code",
   "execution_count": 3,
   "metadata": {},
   "outputs": [],
   "source": [
    "df_train = pd.read_csv('agreement-sentence-agreement-DFE.csv', header=0, encoding = 'unicode_escape')\n"
   ]
  },
  {
   "cell_type": "code",
   "execution_count": 4,
   "metadata": {},
   "outputs": [
    {
     "data": {
      "text/html": [
       "<div>\n",
       "<style scoped>\n",
       "    .dataframe tbody tr th:only-of-type {\n",
       "        vertical-align: middle;\n",
       "    }\n",
       "\n",
       "    .dataframe tbody tr th {\n",
       "        vertical-align: top;\n",
       "    }\n",
       "\n",
       "    .dataframe thead th {\n",
       "        text-align: right;\n",
       "    }\n",
       "</style>\n",
       "<table border=\"1\" class=\"dataframe\">\n",
       "  <thead>\n",
       "    <tr style=\"text-align: right;\">\n",
       "      <th></th>\n",
       "      <th>_unit_id</th>\n",
       "      <th>_unit_state</th>\n",
       "      <th>_trusted_judgments</th>\n",
       "      <th>_last_judgment_at</th>\n",
       "      <th>truth_response</th>\n",
       "      <th>truth_response:confidence</th>\n",
       "      <th>hypothesis</th>\n",
       "      <th>premise</th>\n",
       "      <th>truth_response_gold</th>\n",
       "    </tr>\n",
       "  </thead>\n",
       "  <tbody>\n",
       "    <tr>\n",
       "      <th>0</th>\n",
       "      <td>679986253</td>\n",
       "      <td>finalized</td>\n",
       "      <td>5</td>\n",
       "      <td>2/22/15 0:32</td>\n",
       "      <td>yes</td>\n",
       "      <td>1.0000</td>\n",
       "      <td>Woman pushing a bicycle.</td>\n",
       "      <td>A woman in summer attire is walking with her b...</td>\n",
       "      <td>NaN</td>\n",
       "    </tr>\n",
       "    <tr>\n",
       "      <th>1</th>\n",
       "      <td>679986254</td>\n",
       "      <td>finalized</td>\n",
       "      <td>5</td>\n",
       "      <td>2/22/15 0:50</td>\n",
       "      <td>yes</td>\n",
       "      <td>1.0000</td>\n",
       "      <td>Woman pushing a bicycle.</td>\n",
       "      <td>A girl in a white shirt, walking beside her bike.</td>\n",
       "      <td>NaN</td>\n",
       "    </tr>\n",
       "    <tr>\n",
       "      <th>2</th>\n",
       "      <td>679986255</td>\n",
       "      <td>finalized</td>\n",
       "      <td>5</td>\n",
       "      <td>2/22/15 1:47</td>\n",
       "      <td>yes</td>\n",
       "      <td>1.0000</td>\n",
       "      <td>Woman pushing a bicycle.</td>\n",
       "      <td>A woman walking a bike down a busy sidewalk.</td>\n",
       "      <td>NaN</td>\n",
       "    </tr>\n",
       "    <tr>\n",
       "      <th>3</th>\n",
       "      <td>679986256</td>\n",
       "      <td>finalized</td>\n",
       "      <td>5</td>\n",
       "      <td>2/22/15 1:13</td>\n",
       "      <td>no</td>\n",
       "      <td>0.6121</td>\n",
       "      <td>Woman pushing a bicycle.</td>\n",
       "      <td>A woman carrying her bike through a crowd.</td>\n",
       "      <td>NaN</td>\n",
       "    </tr>\n",
       "    <tr>\n",
       "      <th>4</th>\n",
       "      <td>679986257</td>\n",
       "      <td>finalized</td>\n",
       "      <td>5</td>\n",
       "      <td>2/22/15 0:46</td>\n",
       "      <td>yes</td>\n",
       "      <td>0.5831</td>\n",
       "      <td>A man sitting on an animal.</td>\n",
       "      <td>A boy rides a horse down a dusty country road.</td>\n",
       "      <td>NaN</td>\n",
       "    </tr>\n",
       "  </tbody>\n",
       "</table>\n",
       "</div>"
      ],
      "text/plain": [
       "    _unit_id _unit_state  _trusted_judgments _last_judgment_at truth_response  \\\n",
       "0  679986253   finalized                   5      2/22/15 0:32            yes   \n",
       "1  679986254   finalized                   5      2/22/15 0:50            yes   \n",
       "2  679986255   finalized                   5      2/22/15 1:47            yes   \n",
       "3  679986256   finalized                   5      2/22/15 1:13             no   \n",
       "4  679986257   finalized                   5      2/22/15 0:46            yes   \n",
       "\n",
       "   truth_response:confidence                   hypothesis  \\\n",
       "0                     1.0000     Woman pushing a bicycle.   \n",
       "1                     1.0000     Woman pushing a bicycle.   \n",
       "2                     1.0000     Woman pushing a bicycle.   \n",
       "3                     0.6121     Woman pushing a bicycle.   \n",
       "4                     0.5831  A man sitting on an animal.   \n",
       "\n",
       "                                             premise  truth_response_gold  \n",
       "0  A woman in summer attire is walking with her b...                  NaN  \n",
       "1  A girl in a white shirt, walking beside her bike.                  NaN  \n",
       "2       A woman walking a bike down a busy sidewalk.                  NaN  \n",
       "3         A woman carrying her bike through a crowd.                  NaN  \n",
       "4     A boy rides a horse down a dusty country road.                  NaN  "
      ]
     },
     "execution_count": 4,
     "metadata": {},
     "output_type": "execute_result"
    }
   ],
   "source": [
    "df_train.head()"
   ]
  },
  {
   "cell_type": "markdown",
   "metadata": {},
   "source": [
    "We take only two columns - truth_response and premise as input and output\n",
    "Input: premise.\n",
    "Output: truth_response"
   ]
  },
  {
   "cell_type": "code",
   "execution_count": 5,
   "metadata": {},
   "outputs": [
    {
     "data": {
      "text/html": [
       "<div>\n",
       "<style scoped>\n",
       "    .dataframe tbody tr th:only-of-type {\n",
       "        vertical-align: middle;\n",
       "    }\n",
       "\n",
       "    .dataframe tbody tr th {\n",
       "        vertical-align: top;\n",
       "    }\n",
       "\n",
       "    .dataframe thead th {\n",
       "        text-align: right;\n",
       "    }\n",
       "</style>\n",
       "<table border=\"1\" class=\"dataframe\">\n",
       "  <thead>\n",
       "    <tr style=\"text-align: right;\">\n",
       "      <th></th>\n",
       "      <th>truth_response</th>\n",
       "      <th>premise</th>\n",
       "      <th>category_id</th>\n",
       "    </tr>\n",
       "  </thead>\n",
       "  <tbody>\n",
       "    <tr>\n",
       "      <th>0</th>\n",
       "      <td>yes</td>\n",
       "      <td>A woman in summer attire is walking with her b...</td>\n",
       "      <td>0</td>\n",
       "    </tr>\n",
       "    <tr>\n",
       "      <th>1</th>\n",
       "      <td>yes</td>\n",
       "      <td>A girl in a white shirt, walking beside her bike.</td>\n",
       "      <td>0</td>\n",
       "    </tr>\n",
       "    <tr>\n",
       "      <th>2</th>\n",
       "      <td>yes</td>\n",
       "      <td>A woman walking a bike down a busy sidewalk.</td>\n",
       "      <td>0</td>\n",
       "    </tr>\n",
       "    <tr>\n",
       "      <th>3</th>\n",
       "      <td>no</td>\n",
       "      <td>A woman carrying her bike through a crowd.</td>\n",
       "      <td>1</td>\n",
       "    </tr>\n",
       "    <tr>\n",
       "      <th>4</th>\n",
       "      <td>yes</td>\n",
       "      <td>A boy rides a horse down a dusty country road.</td>\n",
       "      <td>0</td>\n",
       "    </tr>\n",
       "  </tbody>\n",
       "</table>\n",
       "</div>"
      ],
      "text/plain": [
       "  truth_response                                            premise  \\\n",
       "0            yes  A woman in summer attire is walking with her b...   \n",
       "1            yes  A girl in a white shirt, walking beside her bike.   \n",
       "2            yes       A woman walking a bike down a busy sidewalk.   \n",
       "3             no         A woman carrying her bike through a crowd.   \n",
       "4            yes     A boy rides a horse down a dusty country road.   \n",
       "\n",
       "   category_id  \n",
       "0            0  \n",
       "1            0  \n",
       "2            0  \n",
       "3            1  \n",
       "4            0  "
      ]
     },
     "execution_count": 5,
     "metadata": {},
     "output_type": "execute_result"
    }
   ],
   "source": [
    "from io import StringIO\n",
    "\n",
    "col = ['truth_response', 'premise']\n",
    "df_train = df_train[col]\n",
    "df_train = df_train[pd.notnull(df_train['premise'])]\n",
    "df_train.columns = ['truth_response', 'premise']\n",
    "\n",
    "df_train['category_id'] = df_train['truth_response'].factorize()[0]\n",
    "\n",
    "category_id_df_train = df_train[['truth_response', 'category_id']].drop_duplicates().sort_values('category_id')\n",
    "\n",
    "category_to_id = dict(category_id_df_train.values)\n",
    "\n",
    "id_to_category = dict(category_id_df_train[['category_id', 'truth_response']].values)\n",
    "\n",
    "df_train.head()"
   ]
  },
  {
   "cell_type": "markdown",
   "metadata": {},
   "source": [
    "Learning inbalanced Classes"
   ]
  },
  {
   "cell_type": "code",
   "execution_count": 6,
   "metadata": {},
   "outputs": [
    {
     "data": {
      "image/png": "[encoded data removed]",
      "text/plain": [
       "<Figure size 576x432 with 1 Axes>"
      ]
     },
     "metadata": {
      "needs_background": "light"
     },
     "output_type": "display_data"
    }
   ],
   "source": [
    "import matplotlib.pyplot as plt\n",
    "fig = plt.figure(figsize = (8,6))\n",
    "df_train.groupby('truth_response').premise.count().plot.bar(ylim = 0)\n",
    "\n",
    "plt.show()"
   ]
  },
  {
   "cell_type": "code",
   "execution_count": 7,
   "metadata": {},
   "outputs": [
    {
     "data": {
      "text/plain": [
       "1    1008\n",
       "0     803\n",
       "2     189\n",
       "Name: category_id, dtype: int64"
      ]
     },
     "execution_count": 7,
     "metadata": {},
     "output_type": "execute_result"
    }
   ],
   "source": [
    "df_train[\"category_id\"].value_counts()"
   ]
  },
  {
   "cell_type": "markdown",
   "metadata": {},
   "source": [
    "Text Representation "
   ]
  },
  {
   "cell_type": "code",
   "execution_count": 8,
   "metadata": {},
   "outputs": [],
   "source": [
    "from sklearn.naive_bayes import MultinomialNB\n",
    "from sklearn.svm import LinearSVC\n",
    "from sklearn.linear_model import LogisticRegression\n",
    "from sklearn.model_selection import train_test_split\n",
    "from sklearn.metrics import f1_score, confusion_matrix\n",
    "from sklearn.metrics import classification_report\n",
    "\n",
    "import nltk\n",
    "from nltk.corpus import stopwords\n",
    "from nltk import word_tokenize"
   ]
  },
  {
   "cell_type": "markdown",
   "metadata": {},
   "source": [
    "We will calculate a measure called Term Frequency, Inverse Document Frequency, abbreviated to tf-idf."
   ]
  },
  {
   "cell_type": "code",
   "execution_count": 9,
   "metadata": {},
   "outputs": [
    {
     "data": {
      "text/plain": [
       "(2000, 835)"
      ]
     },
     "execution_count": 9,
     "metadata": {},
     "output_type": "execute_result"
    }
   ],
   "source": [
    "from sklearn.feature_extraction.text import TfidfVectorizer\n",
    "\n",
    "vectorizer = TfidfVectorizer(min_df =5, ngram_range = (1, 3), strip_accents = 'unicode',\n",
    "                            lowercase = True, stop_words = 'english', \n",
    "                             tokenizer = word_tokenize)\n",
    "\n",
    "\n",
    "features = vectorizer.fit_transform(df_train.premise).toarray()\n",
    "\n",
    "labels = df_train.category_id\n",
    "\n",
    "features.shape"
   ]
  },
  {
   "cell_type": "code",
   "execution_count": 12,
   "metadata": {},
   "outputs": [],
   "source": [
    "X_train, X_test, y_train, y_test = train_test_split(features, labels, test_size=0.1,\n",
    "                                                   random_state = 0)"
   ]
  },
  {
   "cell_type": "markdown",
   "metadata": {},
   "source": [
    "Model Selection"
   ]
  },
  {
   "cell_type": "markdown",
   "metadata": {},
   "source": [
    "Naive Bayes Classifier"
   ]
  },
  {
   "cell_type": "code",
   "execution_count": 13,
   "metadata": {},
   "outputs": [],
   "source": [
    "from sklearn.naive_bayes import MultinomialNB"
   ]
  },
  {
   "cell_type": "code",
   "execution_count": 16,
   "metadata": {},
   "outputs": [
    {
     "name": "stdout",
     "output_type": "stream",
     "text": [
      "[1 0 1 1 0 1 1 1 0 1 0 1 1 1 1 1 1 1 1 0 1 1 0 1 0 1 0 1 0 0 1 1 0 1 1 1 0\n",
      " 1 0 1 1 1 1 1 1 1 1 1 0 1 1 0 0 1 0 0 0 0 1 1 0 1 1 1 1 1 1 1 1 1 1 1 1 1\n",
      " 1 1 0 1 1 1 1 1 1 1 0 1 0 1 0 0 0 1 1 1 1 1 0 1 1 1 0 1 1 1 0 1 1 0 1 1 1\n",
      " 0 1 0 1 0 0 1 1 0 1 0 2 0 1 0 1 1 0 0 1 1 1 0 1 0 1 1 1 1 0 1 1 1 0 1 1 1\n",
      " 0 1 0 1 0 0 0 1 1 0 1 0 1 0 1 1 1 1 0 0 0 0 0 0 1 0 0 1 1 1 0 0 0 1 0 1 1\n",
      " 1 1 1 1 0 0 1 0 0 1 0 1 1 1 1]\n"
     ]
    }
   ],
   "source": [
    "clf = MultinomialNB().fit(X_train, y_train)\n",
    "y_nb_predicted = clf.predict(X_test)\n",
    "\n",
    "print(y_nb_predicted)"
   ]
  },
  {
   "cell_type": "code",
   "execution_count": 17,
   "metadata": {},
   "outputs": [
    {
     "name": "stdout",
     "output_type": "stream",
     "text": [
      " \n",
      " confusion_matrix \n",
      " \n"
     ]
    }
   ],
   "source": [
    "print(' \\n confusion_matrix \\n ')"
   ]
  },
  {
   "cell_type": "code",
   "execution_count": 20,
   "metadata": {},
   "outputs": [
    {
     "name": "stdout",
     "output_type": "stream",
     "text": [
      "[[39 45  0]\n",
      " [28 68  1]\n",
      " [ 3 16  0]]\n"
     ]
    }
   ],
   "source": [
    "cm = confusion_matrix(y_test, y_nb_predicted)\n",
    "print(cm)"
   ]
  },
  {
   "cell_type": "code",
   "execution_count": 21,
   "metadata": {},
   "outputs": [
    {
     "name": "stdout",
     "output_type": "stream",
     "text": [
      "\n",
      " Here is the classification report:\n"
     ]
    }
   ],
   "source": [
    "print('\\n Here is the classification report:')"
   ]
  },
  {
   "cell_type": "code",
   "execution_count": 23,
   "metadata": {},
   "outputs": [
    {
     "name": "stdout",
     "output_type": "stream",
     "text": [
      "              precision    recall  f1-score   support\n",
      "\n",
      "           0       0.56      0.46      0.51        84\n",
      "           1       0.53      0.70      0.60        97\n",
      "           2       0.00      0.00      0.00        19\n",
      "\n",
      "    accuracy                           0.54       200\n",
      "   macro avg       0.36      0.39      0.37       200\n",
      "weighted avg       0.49      0.54      0.50       200\n",
      "\n"
     ]
    }
   ],
   "source": [
    "print(classification_report(y_test, y_nb_predicted))"
   ]
  },
  {
   "cell_type": "markdown",
   "metadata": {},
   "source": [
    "Decision trees"
   ]
  },
  {
   "cell_type": "code",
   "execution_count": 24,
   "metadata": {},
   "outputs": [],
   "source": [
    "from sklearn import tree"
   ]
  },
  {
   "cell_type": "code",
   "execution_count": 28,
   "metadata": {},
   "outputs": [],
   "source": [
    "clf = tree.DecisionTreeClassifier().fit(X_train, y_train)"
   ]
  },
  {
   "cell_type": "code",
   "execution_count": 30,
   "metadata": {},
   "outputs": [
    {
     "name": "stdout",
     "output_type": "stream",
     "text": [
      "[2 1 1 1 1 0 1 1 0 2 1 1 1 1 1 1 1 1 0 1 1 1 0 0 0 0 1 0 0 0 0 0 1 0 1 2 2\n",
      " 2 1 1 1 1 0 0 0 1 2 1 0 0 1 0 1 1 0 0 0 0 0 1 0 1 1 0 1 1 2 1 1 0 1 1 0 1\n",
      " 0 1 0 0 1 1 1 0 0 2 0 2 1 2 1 0 0 1 1 1 0 0 0 0 1 0 1 0 0 1 0 1 1 0 1 1 0\n",
      " 1 0 0 1 0 1 0 1 0 1 0 0 0 1 0 1 1 0 0 1 1 1 1 1 1 1 2 1 0 1 1 1 1 0 1 0 1\n",
      " 0 1 1 1 1 0 1 1 1 0 2 0 1 0 2 0 1 0 0 1 0 1 0 1 1 0 0 1 1 1 0 1 0 2 0 1 0\n",
      " 1 1 2 0 2 0 0 1 1 1 0 1 1 1 0]\n"
     ]
    }
   ],
   "source": [
    "y_tree_predicted = clf.predict(X_test)\n",
    "print(y_tree_predicted)"
   ]
  },
  {
   "cell_type": "code",
   "execution_count": 31,
   "metadata": {},
   "outputs": [
    {
     "name": "stdout",
     "output_type": "stream",
     "text": [
      " \n",
      " Here is the classification report:\n"
     ]
    }
   ],
   "source": [
    "print (' \\n Here is the classification report:')"
   ]
  },
  {
   "cell_type": "code",
   "execution_count": 32,
   "metadata": {},
   "outputs": [
    {
     "name": "stdout",
     "output_type": "stream",
     "text": [
      "              precision    recall  f1-score   support\n",
      "\n",
      "           0       0.49      0.48      0.48        84\n",
      "           1       0.52      0.56      0.54        97\n",
      "           2       0.12      0.11      0.11        19\n",
      "\n",
      "    accuracy                           0.48       200\n",
      "   macro avg       0.38      0.38      0.38       200\n",
      "weighted avg       0.47      0.48      0.48       200\n",
      "\n"
     ]
    }
   ],
   "source": [
    "print(classification_report(y_test, y_tree_predicted))"
   ]
  },
  {
   "cell_type": "markdown",
   "metadata": {},
   "source": [
    "The Random forest algorithm"
   ]
  },
  {
   "cell_type": "code",
   "execution_count": 39,
   "metadata": {},
   "outputs": [],
   "source": [
    "from sklearn.ensemble import RandomForestClassifier"
   ]
  },
  {
   "cell_type": "code",
   "execution_count": 41,
   "metadata": {},
   "outputs": [],
   "source": [
    "model = RandomForestClassifier(n_estimators=10)\n",
    "RF_clf = model.fit(X_train, y_train)\n",
    "predicted = RF_clf.predict(X_test)"
   ]
  },
  {
   "cell_type": "code",
   "execution_count": 70,
   "metadata": {},
   "outputs": [
    {
     "name": "stdout",
     "output_type": "stream",
     "text": [
      "[[38 43  3]\n",
      " [32 58  7]\n",
      " [ 7 11  1]]\n"
     ]
    }
   ],
   "source": [
    "cm = confusion_matrix(y_test, predicted)\n",
    "print(cm)"
   ]
  },
  {
   "cell_type": "code",
   "execution_count": 42,
   "metadata": {},
   "outputs": [
    {
     "name": "stdout",
     "output_type": "stream",
     "text": [
      "\n",
      " Here is the classification report:\n"
     ]
    }
   ],
   "source": [
    "print('\\n Here is the classification report:')"
   ]
  },
  {
   "cell_type": "code",
   "execution_count": 43,
   "metadata": {},
   "outputs": [
    {
     "name": "stdout",
     "output_type": "stream",
     "text": [
      "              precision    recall  f1-score   support\n",
      "\n",
      "           0       0.49      0.45      0.47        84\n",
      "           1       0.52      0.60      0.56        97\n",
      "           2       0.09      0.05      0.07        19\n",
      "\n",
      "    accuracy                           0.48       200\n",
      "   macro avg       0.37      0.37      0.36       200\n",
      "weighted avg       0.47      0.48      0.47       200\n",
      "\n"
     ]
    }
   ],
   "source": [
    "print(classification_report(y_test, predicted))"
   ]
  },
  {
   "cell_type": "code",
   "execution_count": null,
   "metadata": {},
   "outputs": [],
   "source": []
  }
 ],
 "metadata": {
  "kernelspec": {
   "display_name": "Python 3",
   "language": "python",
   "name": "python3"
  },
  "language_info": {
   "codemirror_mode": {
    "name": "ipython",
    "version": 3
   },
   "file_extension": ".py",
   "mimetype": "text/x-python",
   "name": "python",
   "nbconvert_exporter": "python",
   "pygments_lexer": "ipython3",
   "version": "3.7.4"
  }
 },
 "nbformat": 4,
 "nbformat_minor": 2
}
