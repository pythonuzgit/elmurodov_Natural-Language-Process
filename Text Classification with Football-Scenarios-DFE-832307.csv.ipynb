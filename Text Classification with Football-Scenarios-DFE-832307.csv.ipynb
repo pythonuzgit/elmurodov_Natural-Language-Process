{
 "cells": [
  {
   "cell_type": "markdown",
   "metadata": {},
   "source": [
    "Import Libraries"
   ]
  },
  {
   "cell_type": "code",
   "execution_count": 1,
   "metadata": {},
   "outputs": [],
   "source": [
    "import numpy as np\n",
    "import seaborn as sns\n",
    "import matplotlib.pyplot as plt\n",
    "#% matplotlib inline"
   ]
  },
  {
   "cell_type": "code",
   "execution_count": 2,
   "metadata": {},
   "outputs": [],
   "source": [
    "import pandas as pd\n",
    "import nltk\n",
    "#from bs4 import BeautifulSoup4\n",
    "from bs4 import BeautifulSoup\n",
    "import string\n",
    "from nltk.corpus import stopwords\n",
    "from nltk.stem import WordNetLemmatizer\n",
    "from nltk.tokenize import RegexpTokenizer\n",
    "from nltk.stem.porter import PorterStemmer\n",
    "\n",
    "from sklearn.metrics import f1_score, confusion_matrix\n",
    "from sklearn.metrics import classification_report\n",
    "\n",
    "import warnings\n",
    "warnings.filterwarnings(\"ignore\")"
   ]
  },
  {
   "cell_type": "markdown",
   "metadata": {},
   "source": [
    "Loading data"
   ]
  },
  {
   "cell_type": "code",
   "execution_count": 3,
   "metadata": {},
   "outputs": [],
   "source": [
    "df_train = pd.read_csv('Football-Scenarios-DFE-832307.csv', header=0, encoding = 'unicode_escape')"
   ]
  },
  {
   "cell_type": "code",
   "execution_count": 4,
   "metadata": {},
   "outputs": [
    {
     "data": {
      "text/html": [
       "<div>\n",
       "<style scoped>\n",
       "    .dataframe tbody tr th:only-of-type {\n",
       "        vertical-align: middle;\n",
       "    }\n",
       "\n",
       "    .dataframe tbody tr th {\n",
       "        vertical-align: top;\n",
       "    }\n",
       "\n",
       "    .dataframe thead th {\n",
       "        text-align: right;\n",
       "    }\n",
       "</style>\n",
       "<table border=\"1\" class=\"dataframe\">\n",
       "  <thead>\n",
       "    <tr style=\"text-align: right;\">\n",
       "      <th></th>\n",
       "      <th>_unit_id</th>\n",
       "      <th>_golden</th>\n",
       "      <th>_unit_state</th>\n",
       "      <th>_trusted_judgments</th>\n",
       "      <th>_last_judgment_at</th>\n",
       "      <th>antecedent</th>\n",
       "      <th>antecedent:confidence</th>\n",
       "      <th>orig_antecedent</th>\n",
       "      <th>antecedent_gold</th>\n",
       "      <th>option1</th>\n",
       "      <th>option2</th>\n",
       "      <th>option3</th>\n",
       "      <th>option4</th>\n",
       "      <th>option5</th>\n",
       "    </tr>\n",
       "  </thead>\n",
       "  <tbody>\n",
       "    <tr>\n",
       "      <th>0</th>\n",
       "      <td>831005673</td>\n",
       "      <td>False</td>\n",
       "      <td>finalized</td>\n",
       "      <td>5</td>\n",
       "      <td>11/20/15 20:20</td>\n",
       "      <td>kick a field goal</td>\n",
       "      <td>0.8092</td>\n",
       "      <td>It is first down and 10. The ball is on your o...</td>\n",
       "      <td>NaN</td>\n",
       "      <td>punt</td>\n",
       "      <td>kick a field goal</td>\n",
       "      <td>run</td>\n",
       "      <td>pass</td>\n",
       "      <td>kneel down</td>\n",
       "    </tr>\n",
       "    <tr>\n",
       "      <th>1</th>\n",
       "      <td>831005674</td>\n",
       "      <td>False</td>\n",
       "      <td>finalized</td>\n",
       "      <td>5</td>\n",
       "      <td>11/18/15 21:59</td>\n",
       "      <td>kick a field goal</td>\n",
       "      <td>1.0000</td>\n",
       "      <td>It is second down and inches. The ball is on y...</td>\n",
       "      <td>NaN</td>\n",
       "      <td>punt</td>\n",
       "      <td>kick a field goal</td>\n",
       "      <td>run</td>\n",
       "      <td>pass</td>\n",
       "      <td>kneel down</td>\n",
       "    </tr>\n",
       "    <tr>\n",
       "      <th>2</th>\n",
       "      <td>831005675</td>\n",
       "      <td>False</td>\n",
       "      <td>finalized</td>\n",
       "      <td>5</td>\n",
       "      <td>11/20/15 22:43</td>\n",
       "      <td>kick a field goal</td>\n",
       "      <td>0.6211</td>\n",
       "      <td>It is second down and inches. The ball is on y...</td>\n",
       "      <td>NaN</td>\n",
       "      <td>punt</td>\n",
       "      <td>kick a field goal</td>\n",
       "      <td>run</td>\n",
       "      <td>pass</td>\n",
       "      <td>kneel down</td>\n",
       "    </tr>\n",
       "    <tr>\n",
       "      <th>3</th>\n",
       "      <td>831005676</td>\n",
       "      <td>False</td>\n",
       "      <td>finalized</td>\n",
       "      <td>5</td>\n",
       "      <td>11/19/15 7:41</td>\n",
       "      <td>kick a field goal</td>\n",
       "      <td>0.8073</td>\n",
       "      <td>It is second down and inches. The ball is on y...</td>\n",
       "      <td>NaN</td>\n",
       "      <td>punt</td>\n",
       "      <td>kick a field goal</td>\n",
       "      <td>run</td>\n",
       "      <td>pass</td>\n",
       "      <td>kneel down</td>\n",
       "    </tr>\n",
       "    <tr>\n",
       "      <th>4</th>\n",
       "      <td>831005677</td>\n",
       "      <td>False</td>\n",
       "      <td>finalized</td>\n",
       "      <td>5</td>\n",
       "      <td>11/21/15 8:01</td>\n",
       "      <td>kick a field goal</td>\n",
       "      <td>1.0000</td>\n",
       "      <td>It is second down and inches. The ball is on y...</td>\n",
       "      <td>NaN</td>\n",
       "      <td>punt</td>\n",
       "      <td>kick a field goal</td>\n",
       "      <td>run</td>\n",
       "      <td>pass</td>\n",
       "      <td>kneel down</td>\n",
       "    </tr>\n",
       "  </tbody>\n",
       "</table>\n",
       "</div>"
      ],
      "text/plain": [
       "    _unit_id  _golden _unit_state  _trusted_judgments _last_judgment_at  \\\n",
       "0  831005673    False   finalized                   5    11/20/15 20:20   \n",
       "1  831005674    False   finalized                   5    11/18/15 21:59   \n",
       "2  831005675    False   finalized                   5    11/20/15 22:43   \n",
       "3  831005676    False   finalized                   5     11/19/15 7:41   \n",
       "4  831005677    False   finalized                   5     11/21/15 8:01   \n",
       "\n",
       "          antecedent  antecedent:confidence  \\\n",
       "0  kick a field goal                 0.8092   \n",
       "1  kick a field goal                 1.0000   \n",
       "2  kick a field goal                 0.6211   \n",
       "3  kick a field goal                 0.8073   \n",
       "4  kick a field goal                 1.0000   \n",
       "\n",
       "                                     orig_antecedent antecedent_gold option1  \\\n",
       "0  It is first down and 10. The ball is on your o...             NaN    punt   \n",
       "1  It is second down and inches. The ball is on y...             NaN    punt   \n",
       "2  It is second down and inches. The ball is on y...             NaN    punt   \n",
       "3  It is second down and inches. The ball is on y...             NaN    punt   \n",
       "4  It is second down and inches. The ball is on y...             NaN    punt   \n",
       "\n",
       "              option2 option3 option4      option5  \n",
       "0   kick a field goal     run    pass   kneel down  \n",
       "1   kick a field goal     run    pass   kneel down  \n",
       "2   kick a field goal     run    pass   kneel down  \n",
       "3   kick a field goal     run    pass   kneel down  \n",
       "4   kick a field goal     run    pass   kneel down  "
      ]
     },
     "execution_count": 4,
     "metadata": {},
     "output_type": "execute_result"
    }
   ],
   "source": [
    "df_train.head()"
   ]
  },
  {
   "cell_type": "markdown",
   "metadata": {},
   "source": [
    "Input: orig_antecedent. Ouput: antecedent"
   ]
  },
  {
   "cell_type": "code",
   "execution_count": 5,
   "metadata": {},
   "outputs": [
    {
     "data": {
      "text/html": [
       "<div>\n",
       "<style scoped>\n",
       "    .dataframe tbody tr th:only-of-type {\n",
       "        vertical-align: middle;\n",
       "    }\n",
       "\n",
       "    .dataframe tbody tr th {\n",
       "        vertical-align: top;\n",
       "    }\n",
       "\n",
       "    .dataframe thead th {\n",
       "        text-align: right;\n",
       "    }\n",
       "</style>\n",
       "<table border=\"1\" class=\"dataframe\">\n",
       "  <thead>\n",
       "    <tr style=\"text-align: right;\">\n",
       "      <th></th>\n",
       "      <th>antecedent</th>\n",
       "      <th>orig_antecedent</th>\n",
       "      <th>category_id</th>\n",
       "    </tr>\n",
       "  </thead>\n",
       "  <tbody>\n",
       "    <tr>\n",
       "      <th>0</th>\n",
       "      <td>kick a field goal</td>\n",
       "      <td>It is first down and 10. The ball is on your o...</td>\n",
       "      <td>0</td>\n",
       "    </tr>\n",
       "    <tr>\n",
       "      <th>1</th>\n",
       "      <td>kick a field goal</td>\n",
       "      <td>It is second down and inches. The ball is on y...</td>\n",
       "      <td>0</td>\n",
       "    </tr>\n",
       "    <tr>\n",
       "      <th>2</th>\n",
       "      <td>kick a field goal</td>\n",
       "      <td>It is second down and inches. The ball is on y...</td>\n",
       "      <td>0</td>\n",
       "    </tr>\n",
       "    <tr>\n",
       "      <th>3</th>\n",
       "      <td>kick a field goal</td>\n",
       "      <td>It is second down and inches. The ball is on y...</td>\n",
       "      <td>0</td>\n",
       "    </tr>\n",
       "    <tr>\n",
       "      <th>4</th>\n",
       "      <td>kick a field goal</td>\n",
       "      <td>It is second down and inches. The ball is on y...</td>\n",
       "      <td>0</td>\n",
       "    </tr>\n",
       "  </tbody>\n",
       "</table>\n",
       "</div>"
      ],
      "text/plain": [
       "          antecedent                                    orig_antecedent  \\\n",
       "0  kick a field goal  It is first down and 10. The ball is on your o...   \n",
       "1  kick a field goal  It is second down and inches. The ball is on y...   \n",
       "2  kick a field goal  It is second down and inches. The ball is on y...   \n",
       "3  kick a field goal  It is second down and inches. The ball is on y...   \n",
       "4  kick a field goal  It is second down and inches. The ball is on y...   \n",
       "\n",
       "   category_id  \n",
       "0            0  \n",
       "1            0  \n",
       "2            0  \n",
       "3            0  \n",
       "4            0  "
      ]
     },
     "execution_count": 5,
     "metadata": {},
     "output_type": "execute_result"
    }
   ],
   "source": [
    "from io import StringIO\n",
    "\n",
    "col = ['antecedent', 'orig_antecedent']\n",
    "df_train = df_train[col]\n",
    "df_train = df_train[pd.notnull(df_train['orig_antecedent'])]\n",
    "\n",
    "df_train.columns = ['antecedent', 'orig_antecedent']\n",
    "\n",
    "df_train['category_id'] = df_train['antecedent'].factorize()[0]\n",
    "\n",
    "category_id_df_train = df_train[['antecedent', 'category_id']].drop_duplicates().sort_values('category_id')\n",
    "\n",
    "category_to_id = dict(category_id_df_train.values)\n",
    "\n",
    "id_to_category = dict(category_id_df_train[['category_id', 'antecedent']].values)\n",
    "\n",
    "df_train.head()"
   ]
  },
  {
   "cell_type": "code",
   "execution_count": 6,
   "metadata": {},
   "outputs": [
    {
     "data": {
      "image/png": "[encoded data removed]",
      "text/plain": [
       "<Figure size 576x432 with 1 Axes>"
      ]
     },
     "metadata": {
      "needs_background": "light"
     },
     "output_type": "display_data"
    }
   ],
   "source": [
    "import matplotlib.pyplot as plt\n",
    "fig = plt.figure(figsize=(8,6))\n",
    "df_train.groupby('antecedent').orig_antecedent.count().plot.bar(ylim=0)\n",
    "plt.show()"
   ]
  },
  {
   "cell_type": "code",
   "execution_count": 7,
   "metadata": {},
   "outputs": [
    {
     "data": {
      "text/plain": [
       "1    1339\n",
       "3    1152\n",
       "0     612\n",
       "5     411\n",
       "4     130\n",
       "2      86\n",
       "Name: category_id, dtype: int64"
      ]
     },
     "execution_count": 7,
     "metadata": {},
     "output_type": "execute_result"
    }
   ],
   "source": [
    "df_train[\"category_id\"].value_counts()"
   ]
  },
  {
   "cell_type": "markdown",
   "metadata": {},
   "source": [
    "Text Representation"
   ]
  },
  {
   "cell_type": "code",
   "execution_count": 8,
   "metadata": {},
   "outputs": [],
   "source": [
    "from sklearn.feature_extraction.text import TfidfVectorizer\n",
    "from sklearn.naive_bayes import MultinomialNB\n",
    "from sklearn.svm import LinearSVC\n",
    "from sklearn.linear_model import LogisticRegression\n",
    "from sklearn.model_selection import train_test_split\n",
    "from sklearn.metrics import f1_score, confusion_matrix\n",
    "from sklearn.metrics import classification_report\n",
    "\n",
    "import nltk\n",
    "from nltk.corpus import stopwords\n",
    "from nltk import word_tokenize\n"
   ]
  },
  {
   "cell_type": "markdown",
   "metadata": {},
   "source": [
    "For each term in our dataset, we will calculate a measure called Term Frequency, Inverse Document Frequency, abbreviated to tf-idf."
   ]
  },
  {
   "cell_type": "code",
   "execution_count": 9,
   "metadata": {},
   "outputs": [
    {
     "data": {
      "text/plain": [
       "(3730, 157)"
      ]
     },
     "execution_count": 9,
     "metadata": {},
     "output_type": "execute_result"
    }
   ],
   "source": [
    "vectorizer = TfidfVectorizer(min_df =5, ngram_range = (1, 3), strip_accents = 'unicode',\n",
    "                            lowercase = True, stop_words = 'english', \n",
    "                             tokenizer = word_tokenize)\n",
    "\n",
    "features = vectorizer.fit_transform(df_train.orig_antecedent).toarray()\n",
    "\n",
    "labels = df_train.category_id\n",
    "features.shape\n"
   ]
  },
  {
   "cell_type": "code",
   "execution_count": 10,
   "metadata": {},
   "outputs": [],
   "source": [
    "X_train, X_test, y_train, y_test = train_test_split(features, labels, test_size=0.1,\n",
    "                                                   random_state = 0)"
   ]
  },
  {
   "cell_type": "markdown",
   "metadata": {},
   "source": [
    "Classification with Logistic Regression"
   ]
  },
  {
   "cell_type": "code",
   "execution_count": 11,
   "metadata": {},
   "outputs": [
    {
     "data": {
      "text/plain": [
       "LogisticRegression(C=10, class_weight={0: 0.07, 1: 1}, dual=False,\n",
       "                   fit_intercept=True, intercept_scaling=1, l1_ratio=None,\n",
       "                   max_iter=100, multi_class='warn', n_jobs=None, penalty='l2',\n",
       "                   random_state=None, solver='warn', tol=0.0001, verbose=0,\n",
       "                   warm_start=False)"
      ]
     },
     "execution_count": 11,
     "metadata": {},
     "output_type": "execute_result"
    }
   ],
   "source": [
    "lr = LogisticRegression(C = 10, class_weight = {0:0.07 , 1:1})\n",
    "lr.fit(X_train, y_train)"
   ]
  },
  {
   "cell_type": "code",
   "execution_count": 12,
   "metadata": {},
   "outputs": [],
   "source": [
    "y_pred_train1 = lr.predict(X_train)"
   ]
  },
  {
   "cell_type": "code",
   "execution_count": 13,
   "metadata": {},
   "outputs": [
    {
     "name": "stdout",
     "output_type": "stream",
     "text": [
      "0.7578194816800715\n"
     ]
    }
   ],
   "source": [
    "print(f1_score(y_train, y_pred_train1, pos_label = 'positive', average = 'micro'))\n",
    "\n"
   ]
  },
  {
   "cell_type": "code",
   "execution_count": 14,
   "metadata": {},
   "outputs": [
    {
     "data": {
      "text/plain": [
       "array([[ 221,  109,    6,  153,    6,   51],\n",
       "       [   9, 1017,   22,  117,    5,   38],\n",
       "       [   1,   51,   18,    4,    0,    3],\n",
       "       [   1,  143,    3,  868,    1,   22],\n",
       "       [   2,   26,    0,   12,   64,   11],\n",
       "       [   1,    7,    5,    4,    0,  356]])"
      ]
     },
     "execution_count": 14,
     "metadata": {},
     "output_type": "execute_result"
    }
   ],
   "source": [
    "cm1 = confusion_matrix(y_train, y_pred_train1) \n",
    "cm1\n"
   ]
  },
  {
   "cell_type": "code",
   "execution_count": 15,
   "metadata": {},
   "outputs": [
    {
     "data": {
      "text/plain": [
       "<matplotlib.axes._subplots.AxesSubplot at 0x7fc76da0d6d0>"
      ]
     },
     "execution_count": 15,
     "metadata": {},
     "output_type": "execute_result"
    },
    {
     "data": {
      "image/png": "[encoded data removed]",
      "text/plain": [
       "<Figure size 432x288 with 2 Axes>"
      ]
     },
     "metadata": {
      "needs_background": "light"
     },
     "output_type": "display_data"
    }
   ],
   "source": [
    "sns.heatmap(cm1, cmap=\"Blues\", annot=True, square=True, fmt=\".0f\")"
   ]
  },
  {
   "cell_type": "code",
   "execution_count": 16,
   "metadata": {},
   "outputs": [
    {
     "name": "stdout",
     "output_type": "stream",
     "text": [
      "              precision    recall  f1-score   support\n",
      "\n",
      "           0       0.94      0.40      0.57       546\n",
      "           1       0.75      0.84      0.79      1208\n",
      "           2       0.33      0.23      0.27        77\n",
      "           3       0.75      0.84      0.79      1038\n",
      "           4       0.84      0.56      0.67       115\n",
      "           5       0.74      0.95      0.83       373\n",
      "\n",
      "    accuracy                           0.76      3357\n",
      "   macro avg       0.73      0.64      0.65      3357\n",
      "weighted avg       0.77      0.76      0.74      3357\n",
      "\n"
     ]
    }
   ],
   "source": [
    "print(classification_report(y_train, y_pred_train1))"
   ]
  },
  {
   "cell_type": "markdown",
   "metadata": {},
   "source": [
    "Classification with MultinomialNB"
   ]
  },
  {
   "cell_type": "code",
   "execution_count": 17,
   "metadata": {},
   "outputs": [
    {
     "data": {
      "text/plain": [
       "MultinomialNB(alpha=0.1, class_prior=None, fit_prior=True)"
      ]
     },
     "execution_count": 17,
     "metadata": {},
     "output_type": "execute_result"
    }
   ],
   "source": [
    "mnb = MultinomialNB(alpha = 0.1)\n",
    "mnb.fit(X_train, y_train)\n"
   ]
  },
  {
   "cell_type": "code",
   "execution_count": 18,
   "metadata": {},
   "outputs": [],
   "source": [
    "y_pred_train2 = mnb.predict(X_train)"
   ]
  },
  {
   "cell_type": "code",
   "execution_count": 19,
   "metadata": {},
   "outputs": [
    {
     "name": "stdout",
     "output_type": "stream",
     "text": [
      "0.7158176943699732\n"
     ]
    }
   ],
   "source": [
    "print(f1_score(y_train, y_pred_train2, pos_label = 'positive', average = 'micro'))\n"
   ]
  },
  {
   "cell_type": "code",
   "execution_count": 20,
   "metadata": {},
   "outputs": [
    {
     "data": {
      "text/plain": [
       "array([[298, 121,   1, 123,   3,   0],\n",
       "       [ 48, 996,  50,  91,   4,  19],\n",
       "       [ 24,  27,  26,   0,   0,   0],\n",
       "       [ 36, 163,   7, 824,   3,   5],\n",
       "       [  4,  46,   0,  15,  47,   3],\n",
       "       [ 11,  82,  20,  48,   0, 212]])"
      ]
     },
     "execution_count": 20,
     "metadata": {},
     "output_type": "execute_result"
    }
   ],
   "source": [
    "cm2 = confusion_matrix(y_train, y_pred_train2) \n",
    "cm2"
   ]
  },
  {
   "cell_type": "code",
   "execution_count": 21,
   "metadata": {},
   "outputs": [
    {
     "data": {
      "text/plain": [
       "<matplotlib.axes._subplots.AxesSubplot at 0x7fc767296a10>"
      ]
     },
     "execution_count": 21,
     "metadata": {},
     "output_type": "execute_result"
    },
    {
     "data": {
      "image/png": "[encoded data removed]",
      "text/plain": [
       "<Figure size 432x288 with 2 Axes>"
      ]
     },
     "metadata": {
      "needs_background": "light"
     },
     "output_type": "display_data"
    }
   ],
   "source": [
    "sns.heatmap(cm2, cmap=\"Blues\", annot=True, square=True, fmt=\".0f\")"
   ]
  },
  {
   "cell_type": "code",
   "execution_count": 22,
   "metadata": {},
   "outputs": [
    {
     "name": "stdout",
     "output_type": "stream",
     "text": [
      "              precision    recall  f1-score   support\n",
      "\n",
      "           0       0.71      0.55      0.62       546\n",
      "           1       0.69      0.82      0.75      1208\n",
      "           2       0.25      0.34      0.29        77\n",
      "           3       0.75      0.79      0.77      1038\n",
      "           4       0.82      0.41      0.55       115\n",
      "           5       0.89      0.57      0.69       373\n",
      "\n",
      "    accuracy                           0.72      3357\n",
      "   macro avg       0.69      0.58      0.61      3357\n",
      "weighted avg       0.73      0.72      0.71      3357\n",
      "\n"
     ]
    }
   ],
   "source": [
    "print(classification_report(y_train, y_pred_train2))"
   ]
  },
  {
   "cell_type": "markdown",
   "metadata": {},
   "source": [
    "Classification with Linear SVC"
   ]
  },
  {
   "cell_type": "code",
   "execution_count": 23,
   "metadata": {},
   "outputs": [
    {
     "data": {
      "text/plain": [
       "LinearSVC(C=5, class_weight={0: 0.07, 1: 1}, dual=True, fit_intercept=True,\n",
       "          intercept_scaling=1, loss='squared_hinge', max_iter=1000,\n",
       "          multi_class='ovr', penalty='l2', random_state=None, tol=0.0001,\n",
       "          verbose=0)"
      ]
     },
     "execution_count": 23,
     "metadata": {},
     "output_type": "execute_result"
    }
   ],
   "source": [
    "from sklearn.svm import LinearSVC\n",
    "svc = LinearSVC(C = 5, class_weight = {0 : 0.07, 1 : 1})\n",
    "svc.fit(X_train, y_train)"
   ]
  },
  {
   "cell_type": "code",
   "execution_count": 24,
   "metadata": {},
   "outputs": [],
   "source": [
    "y_pred_train3 = svc.predict(X_train)\n"
   ]
  },
  {
   "cell_type": "code",
   "execution_count": 25,
   "metadata": {},
   "outputs": [
    {
     "name": "stdout",
     "output_type": "stream",
     "text": [
      "0.7682454572535001\n"
     ]
    }
   ],
   "source": [
    "print(f1_score(y_train, y_pred_train3, pos_label = 'positive', average = 'micro'))"
   ]
  },
  {
   "cell_type": "code",
   "execution_count": 26,
   "metadata": {},
   "outputs": [
    {
     "data": {
      "text/plain": [
       "array([[274,  86,   5, 123,   4,  54],\n",
       "       [ 14, 994,  20, 134,   5,  41],\n",
       "       [  1,  53,  16,   4,   0,   3],\n",
       "       [  3, 137,   3, 872,   1,  22],\n",
       "       [  2,  26,   0,  13,  66,   8],\n",
       "       [  1,   7,   5,   3,   0, 357]])"
      ]
     },
     "execution_count": 26,
     "metadata": {},
     "output_type": "execute_result"
    }
   ],
   "source": [
    "cm3 = confusion_matrix(y_train, y_pred_train3) \n",
    "cm3"
   ]
  },
  {
   "cell_type": "code",
   "execution_count": 27,
   "metadata": {},
   "outputs": [
    {
     "data": {
      "text/plain": [
       "<matplotlib.axes._subplots.AxesSubplot at 0x7fc76719f510>"
      ]
     },
     "execution_count": 27,
     "metadata": {},
     "output_type": "execute_result"
    },
    {
     "data": {
      "image/png": "[encoded data removed]",
      "text/plain": [
       "<Figure size 432x288 with 2 Axes>"
      ]
     },
     "metadata": {
      "needs_background": "light"
     },
     "output_type": "display_data"
    }
   ],
   "source": [
    "sns.heatmap(cm3, cmap=\"Blues\", annot=True, square=True, fmt=\".0f\")"
   ]
  },
  {
   "cell_type": "code",
   "execution_count": 28,
   "metadata": {},
   "outputs": [
    {
     "name": "stdout",
     "output_type": "stream",
     "text": [
      "              precision    recall  f1-score   support\n",
      "\n",
      "           0       0.93      0.50      0.65       546\n",
      "           1       0.76      0.82      0.79      1208\n",
      "           2       0.33      0.21      0.25        77\n",
      "           3       0.76      0.84      0.80      1038\n",
      "           4       0.87      0.57      0.69       115\n",
      "           5       0.74      0.96      0.83       373\n",
      "\n",
      "    accuracy                           0.77      3357\n",
      "   macro avg       0.73      0.65      0.67      3357\n",
      "weighted avg       0.78      0.77      0.76      3357\n",
      "\n"
     ]
    }
   ],
   "source": [
    "print(classification_report(y_train, y_pred_train3))"
   ]
  },
  {
   "cell_type": "code",
   "execution_count": null,
   "metadata": {},
   "outputs": [],
   "source": []
  }
 ],
 "metadata": {
  "kernelspec": {
   "display_name": "Python 3",
   "language": "python",
   "name": "python3"
  },
  "language_info": {
   "codemirror_mode": {
    "name": "ipython",
    "version": 3
   },
   "file_extension": ".py",
   "mimetype": "text/x-python",
   "name": "python",
   "nbconvert_exporter": "python",
   "pygments_lexer": "ipython3",
   "version": "3.7.4"
  }
 },
 "nbformat": 4,
 "nbformat_minor": 2
}
